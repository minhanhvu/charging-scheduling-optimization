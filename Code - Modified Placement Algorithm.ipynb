{
 "cells": [
  {
   "cell_type": "code",
   "execution_count": 1,
   "id": "653ed61b",
   "metadata": {},
   "outputs": [],
   "source": [
    "import matplotlib.pyplot as plt\n",
    "import numpy as np\n",
    "import pandas as pd\n",
    "import random"
   ]
  },
  {
   "cell_type": "markdown",
   "id": "bc4b29a7",
   "metadata": {},
   "source": [
    "### Ramdomized input parameters"
   ]
  },
  {
   "cell_type": "code",
   "execution_count": 2,
   "id": "8de51bc6",
   "metadata": {},
   "outputs": [
    {
     "name": "stdout",
     "output_type": "stream",
     "text": [
      "[11, 23, 10, 10, 22, 17]\n",
      "[22, 19, 24, 22, 3, 19]\n",
      "[9, 29, 34, 32, 35, 30]\n"
     ]
    }
   ],
   "source": [
    "# Randomize 6 values from 10 to 23\n",
    "arrival_rand = [random.randint(10, 23) for _ in range(6)]\n",
    "\n",
    "# Randomize 6 values from 19 to 24 and 1 to 4\n",
    "depart_rand = [random.randint(19, 24) if random.random() < 0.5 else random.randint(1, 4) for _ in range(6)]\n",
    "\n",
    "# Randomize 6 values from 7 to 35\n",
    "demand_rand = [random.randint(7, 35) for _ in range(6)]\n",
    "\n",
    "print(arrival_rand)\n",
    "print(depart_rand)\n",
    "print(demand_rand)"
   ]
  },
  {
   "cell_type": "markdown",
   "id": "abd35a33",
   "metadata": {},
   "source": [
    "### Step 1: Load the arrival time, departure time, requested energy, power outputs"
   ]
  },
  {
   "cell_type": "code",
   "execution_count": 3,
   "id": "a97b4a75",
   "metadata": {},
   "outputs": [
    {
     "name": "stdout",
     "output_type": "stream",
     "text": [
      "[13, 14, 10, 23, 12, 13]\n",
      "[23, 16, 23, 4, 23, 3]\n",
      "[35, 30, 21, 17, 23, 28]\n"
     ]
    }
   ],
   "source": [
    "#Step 1: Load the arrival time, departure time, requested energy, power output\n",
    "car = [1, 2, 3, 4, 5, 6]\n",
    "arrival_time = [13, 14, 10, 23, 12, 13]\n",
    "departure_time = [23, 16, 23, 4, 23, 3]\n",
    "energy_requirement = [35, 30, 21, 17, 23, 28]\n",
    "power_output = [3, 7, 11]\n",
    "\n",
    "print(arrival_time)\n",
    "print(departure_time)\n",
    "print(energy_requirement)"
   ]
  },
  {
   "cell_type": "markdown",
   "id": "0e409f7b",
   "metadata": {},
   "source": [
    "### Step 2: Load the ToUP tariffs from the energy service supplier"
   ]
  },
  {
   "cell_type": "code",
   "execution_count": 4,
   "id": "24a1bd06",
   "metadata": {},
   "outputs": [
    {
     "data": {
      "image/png": "[encoded data removed]",
      "text/plain": [
       "<Figure size 1200x400 with 1 Axes>"
      ]
     },
     "metadata": {},
     "output_type": "display_data"
    }
   ],
   "source": [
    "# Determine peak, shoulder and off-peak rates\n",
    "time_list = list(range(1, 25))\n",
    "off_rate = 10.5\n",
    "shoulder_rate = 15\n",
    "peak_rate = 18\n",
    "hourly_tariff_list = []\n",
    "\n",
    "hourly_tariff_list = [\n",
    "    off_rate if (1 <= hour <= 5 or 20 <= hour <= 24)\n",
    "    else shoulder_rate if (6 <= hour <= 8 or 17 <= hour <= 19)\n",
    "    else peak_rate\n",
    "    for hour in time_list\n",
    "]\n",
    "\n",
    "\n",
    "# Visualize tariff scheme\n",
    "font = {'fontname': 'Times New Roman', 'size': 15 }\n",
    "\n",
    "colors = ['#2FB5B0' if rate == off_rate else '#BF9000' if rate == shoulder_rate else '#FF7C80' for rate in hourly_tariff_list]\n",
    "plt.figure(figsize=(12,4))\n",
    "plt.subplots_adjust(bottom=0.2)  # Adjust the bottom margin for labels\n",
    "\n",
    "plt.bar(time_list, hourly_tariff_list, color=colors)\n",
    "plt.xlabel('Interval (Hour)', **font)\n",
    "plt.ylabel(\"Electricity cost (Cent)\",**font)\n",
    "plt.xticks(time_list, **font)\n",
    "plt.yticks(**font)\n",
    "\n",
    "plt.savefig('24 hour tariff.png', dpi=700, bbox_inches='tight')\n",
    "\n",
    "\n",
    "plt.show()\n",
    "\n"
   ]
  },
  {
   "cell_type": "markdown",
   "id": "780a2287",
   "metadata": {},
   "source": [
    "### Step 3: Determine power output and respective charge length"
   ]
  },
  {
   "cell_type": "code",
   "execution_count": 5,
   "id": "8067b352",
   "metadata": {},
   "outputs": [
    {
     "name": "stdout",
     "output_type": "stream",
     "text": [
      "Demand of car number 2 cannot be met, maximum energy deliverable is 22 kWh\n",
      "Dwell time: [10, 2, 13, 5, 11, 14]\n",
      "Charge Power: [7, 11, 3, 7, 3, 3]\n",
      "Charge Length: [5, 2, 7, 2, 7, 9]\n",
      "Energy Fulfilment: [35, 22, 21, 14, 21, 27]\n",
      "Energy Requirement: [35, 30, 21, 17, 23, 28]\n"
     ]
    }
   ],
   "source": [
    "## Step 3.1: Generate vehicle's dwell time\n",
    "dwell_time = [d - a if d > a else 24 + d - a for a, d in zip(arrival_time, departure_time)]\n",
    "\n",
    "## Step 3.2: Generate charge duration corresponding to each power output\n",
    "duration_by_mode = [[(e / p) for p in power_output] for e in energy_requirement] #Data type must be interger\n",
    " \n",
    "## Step 3.3: Determine charging output\n",
    "\n",
    "charge_power = [] \n",
    "charge_length = [] \n",
    "energy_fulfillment = []\n",
    "\n",
    "# Identify vehicles, of which energy demand cannot be fulfiled within time constraint\n",
    "high_demand_alert = [\"Yes\" if e > max(power_output)*dwell else \"No\" for e, dwell in zip(energy_requirement, dwell_time)]\n",
    "\n",
    "#Prioritize slower charger as long as charge demand is fulfilled\n",
    "for i, (time, dur) in enumerate(zip(dwell_time, duration_by_mode)):\n",
    "    if high_demand_alert[i] == \"No\":\n",
    "        for j in range(3):\n",
    "            if dur[j] <= time:\n",
    "                charge_power.append(power_output[j]) # select charge rate\n",
    "                charge_length.append(int(dur[j])) # select the charge length\n",
    "                energy_fulfillment.append(power_output[j]*int(dur[j]))\n",
    "                break  # Break used to stop loop when the condition is met\n",
    "    else:     \n",
    "        charge_power.append(max(power_output))\n",
    "        charge_length.append(dwell_time[i]) \n",
    "        energy_fulfillment.append(max(power_output)*dwell_time[i])\n",
    "        print(f\"Demand of car number {car[i]} cannot be met, maximum energy deliverable is {energy_fulfillment[i]} kWh\")\n",
    "\n",
    "print(\"Dwell time:\", dwell_time)\n",
    "print(\"Charge Power:\", charge_power)\n",
    "print(\"Charge Length:\", charge_length)\n",
    "print(\"Energy Fulfilment:\", energy_fulfillment)\n",
    "print(\"Energy Requirement:\", energy_requirement)\n",
    "\n"
   ]
  },
  {
   "cell_type": "markdown",
   "id": "c9f34b7d",
   "metadata": {},
   "source": [
    "### Step 4, 5 & 6: Determine charging scenario, calculate charging costs and find optimal scenario"
   ]
  },
  {
   "cell_type": "code",
   "execution_count": 6,
   "id": "c25e3825",
   "metadata": {},
   "outputs": [],
   "source": [
    "# Calculate % Energy Fulfillment\n",
    "energy_fulfillment_percentage = [(ef / er) * 100 for ef, er in zip(energy_fulfillment, energy_requirement)]\n",
    "energy_fulfillment_percentage = [round(ef, 0) for ef in energy_fulfillment_percentage]\n"
   ]
  },
  {
   "cell_type": "code",
   "execution_count": 7,
   "id": "3b646898",
   "metadata": {},
   "outputs": [],
   "source": [
    "charging_infor_list = list(zip(car, arrival_time, departure_time, charge_length, charge_power))\n",
    "\n",
    "def find_optimal_charging_time(name, arrival, departure, charge_length, charge_power):\n",
    "    \n",
    "#Step 4: Determine the number of charging scenarios\n",
    "    if departure > arrival: \n",
    "        scenario_num = departure - arrival - charge_length + 1\n",
    "    else: \n",
    "        scenario_num = 24 + departure - arrival - charge_length + 1\n",
    "        \n",
    "    \n",
    "#Step 5:  Calculate charging cost for each scenario.\n",
    "    #Step 5.1: Determine start_end charging time\n",
    "    \n",
    "    start_time = [arrival + i - 1 for i in range(1,scenario_num + 1)]\n",
    "    end_time = []\n",
    "    \n",
    "    for i in range(1, scenario_num + 1):\n",
    "        if arrival - 1 + i + charge_length <= 24:\n",
    "            end_time.append(arrival + i - 1 + charge_length)\n",
    "        else: \n",
    "            end_time.append(arrival + i - 1 + charge_length - 24)\n",
    "    \n",
    "\n",
    "    #Step 5.2: Calculate charging cost for each scenario\n",
    "    \n",
    "    ## Select corresponding set of tariff:\n",
    "    \n",
    "    selected_hourly_tariff = []\n",
    "    for i in range(scenario_num):\n",
    "        if end_time[i] > start_time[i]: \n",
    "            list = hourly_tariff_list[start_time[i]:end_time[i]]  \n",
    "        else: \n",
    "            list = hourly_tariff_list[start_time[i]:] + hourly_tariff_list[:end_time[i]] \n",
    "        selected_hourly_tariff.append(list)\n",
    "    \n",
    "        \n",
    "    ## Calculate charging cost:\n",
    "    charging_cost_scenario = []  \n",
    "    for tariff_set in selected_hourly_tariff:\n",
    "        session_cost = sum([charge_power*tariff for tariff in tariff_set])\n",
    "        charging_cost_scenario.append(session_cost)\n",
    "        \n",
    "    start_time_and_charing_cost = dict(zip(start_time,charging_cost_scenario))\n",
    "\n",
    "    \n",
    "#Step 6: Find the minimum charging cost of all scenario and its respective charging start_end time\n",
    "    optimal_index = charging_cost_scenario.index(min(charging_cost_scenario))\n",
    "    optimal_start = start_time[optimal_index]\n",
    "    optimal_end = end_time[optimal_index]\n",
    "    \n",
    "    optimal_cost = charging_cost_scenario[optimal_index] / 10\n",
    "    optimal_start_end = optimal_start, optimal_end\n",
    "    \n",
    "    unscheduled_cost = charging_cost_scenario[0]/10\n",
    "    unscheduled_start_end = start_time[0], end_time[0]\n",
    "     \n",
    "    return optimal_start_end, unscheduled_start_end, optimal_cost, unscheduled_cost\n",
    "\n",
    "\n",
    "\n",
    "\n"
   ]
  },
  {
   "cell_type": "markdown",
   "id": "0d2cd177",
   "metadata": {},
   "source": [
    "### Step 7: Assign the optimal charging starting time to the vehicle and report the charging cost"
   ]
  },
  {
   "cell_type": "code",
   "execution_count": 8,
   "id": "677138ca",
   "metadata": {},
   "outputs": [
    {
     "name": "stdout",
     "output_type": "stream",
     "text": [
      "Car number 1 will be charged between 18 and 23, charging cost is 39.9, energy fulfillment rate is 100.0%\n",
      "Car number 2 will be charged between 14 and 16, charging cost is 39.6, energy fulfillment rate is 73.0%\n",
      "Car number 3 will be charged between 16 and 23, charging cost is 26.1, energy fulfillment rate is 100.0%\n",
      "Car number 4 will be charged between 23 and 1, charging cost is 14.7, energy fulfillment rate is 82.0%\n",
      "Car number 5 will be charged between 16 and 23, charging cost is 26.1, energy fulfillment rate is 91.0%\n",
      "Car number 6 will be charged between 18 and 3, charging cost is 29.7, energy fulfillment rate is 96.0%\n"
     ]
    }
   ],
   "source": [
    "\n",
    "scheduled_start_end = []\n",
    "unscheduled_start_end = []\n",
    "\n",
    "minimized_cost_list = []\n",
    "unscheduled_cost_list =[]\n",
    " \n",
    "\n",
    "for case in charging_infor_list:\n",
    "    result1, result2, result3, result4 = find_optimal_charging_time(*case)\n",
    "    scheduled_start_end.append(result1)\n",
    "    unscheduled_start_end.append(result2)\n",
    "    minimized_cost_list.append(result3)\n",
    "    unscheduled_cost_list.append(result4)\n",
    "\n",
    "\n",
    "# Printing scheduled start-end times and other information\n",
    "for i in range(len(car)):\n",
    "    start, end = scheduled_start_end[i]\n",
    "    cost = minimized_cost_list[i]\n",
    "    fulfillment = energy_fulfillment_percentage[i]  # Make sure you've calculated this value\n",
    "    \n",
    "    print(f\"Car number {car[i]} will be charged between {start} and {end}, charging cost is {cost}, energy fulfillment rate is {fulfillment}%\")\n"
   ]
  },
  {
   "cell_type": "markdown",
   "id": "d9cdc450",
   "metadata": {},
   "source": [
    "### Visualize the charging tariff of unscheduled vs scheduled charging "
   ]
  },
  {
   "cell_type": "code",
   "execution_count": 9,
   "id": "4096a309",
   "metadata": {},
   "outputs": [
    {
     "name": "stderr",
     "output_type": "stream",
     "text": [
      "C:\\Users\\minha\\AppData\\Local\\Temp\\ipykernel_27920\\2188050265.py:48: UserWarning: FixedFormatter should only be used together with FixedLocator\n",
      "  ax.set_xticklabels(ax.get_yticks().astype(int), **font)\n",
      "C:\\Users\\minha\\AppData\\Local\\Temp\\ipykernel_27920\\2188050265.py:49: UserWarning: FixedFormatter should only be used together with FixedLocator\n",
      "  ax.set_yticklabels(ax.get_yticks().astype(int), **font)\n"
     ]
    },
    {
     "data": {
      "image/png": "[encoded data removed]",
      "text/plain": [
       "<Figure size 800x1000 with 6 Axes>"
      ]
     },
     "metadata": {},
     "output_type": "display_data"
    }
   ],
   "source": [
    "modified_scheduled_start_end = [(start, end + 24 if end < start else end) for start, end in scheduled_start_end]\n",
    "modified_unscheduled_start_end = [(start, end + 24 if end < start else end) for start, end in unscheduled_start_end]\n",
    "\n",
    "x_axis = list(range(1,24))+list(range(1,20))\n",
    "x = np.arange(len(x_axis))\n",
    "\n",
    "# Create a figure with 3 rows and 2 columns\n",
    "fig, axes = plt.subplots(nrows=3, ncols=2, figsize=(8, 10))\n",
    "\n",
    "# Iterate through each row and column\n",
    "for i in range(len(scheduled_start_end)):\n",
    "    start, end = modified_scheduled_start_end[i]\n",
    "    start1, end1 = modified_unscheduled_start_end[i]\n",
    "\n",
    "    # Create a list to represent the modified interval tariff data\n",
    "    scheduled_tariff = []\n",
    "    unscheduled_tariff = []\n",
    "\n",
    "   # Loop through x_axis values\n",
    "    for block in x:\n",
    "        # Set the tariff for the  from 1 to 17 and from 22 to 24 as 0\n",
    "        if block <= start or block > end:\n",
    "            scheduled_tariff.append(0)\n",
    "        else:\n",
    "            # Extract the hourly tariff corresponding to the start and end indices (with modulo operation)\n",
    "            scheduled_tariff.append(hourly_tariff_list[(block-1)% len(hourly_tariff_list)])\n",
    "\n",
    "\n",
    "        if block <= start1 or block > end1:\n",
    "            unscheduled_tariff.append(0)\n",
    "        else:\n",
    "            # Extract the hourly tariff corresponding to the start and end indices (with modulo operation)\n",
    "            unscheduled_tariff.append(hourly_tariff_list[(block-1)% len(hourly_tariff_list)])\n",
    "    \n",
    "    row = i // 2  # Determine the row index based on iteration\n",
    "    col = i % 2   # Determine the column index based on iteration\n",
    "    ax = axes[row, col]\n",
    "    \n",
    "    # Plot scheduled and unscheduled charging tariffs\n",
    "    ax.step(range(len(scheduled_tariff)), scheduled_tariff, where='post', color='#2FB5B0', label='Scheduled', linewidth=2)\n",
    "    ax.step(range(len(unscheduled_tariff)), unscheduled_tariff, where='post', color='#FF7C80', label='Unscheduled', linewidth=2)\n",
    "    \n",
    "    font = {'fontname': 'Times New Roman', 'size': 10}\n",
    "    ax.set_xlabel('Interval (Hr)', **font)\n",
    "    ax.set_ylabel('Tariff', **font)\n",
    "    ax.set_title(f'Car {car[i]}', **font)\n",
    "    ax.grid(True)\n",
    "    ax.set_xticklabels(ax.get_yticks().astype(int), **font)\n",
    "    ax.set_yticklabels(ax.get_yticks().astype(int), **font)\n",
    "\n",
    "   \n",
    "     # Show legend only on the first plot\n",
    "    if i == 0:\n",
    "        legend = ax.legend(fontsize=8)\n",
    "        for text in legend.get_texts():\n",
    "            text.set_fontname(\"Times New Roman\")\n",
    "        \n",
    "# Adjust the layout spacing between subplots and titles\n",
    "plt.tight_layout(rect=[0, 0.03, 1, 0.95])  # Added rect parameter to give more space for the main title\n",
    "\n",
    "\n",
    "# Save the figure as an image file\n",
    "output_file = \"1 hour model - charging cost.png\"\n",
    "plt.savefig(output_file, dpi=500, bbox_inches='tight', pad_inches=0.5)  # Added pad_inches parameter\n",
    "   \n",
    "\n",
    "# Adjust layout spacing\n",
    "plt.tight_layout()\n",
    "\n",
    "# Show the figure\n",
    "plt.show()"
   ]
  },
  {
   "cell_type": "markdown",
   "id": "bb9d888f",
   "metadata": {},
   "source": [
    "### SIMULATION AND ANALYSIS"
   ]
  },
  {
   "cell_type": "code",
   "execution_count": 10,
   "id": "6cf8e37a",
   "metadata": {},
   "outputs": [
    {
     "name": "stdout",
     "output_type": "stream",
     "text": [
      " Car  Arrival Time  Departure Time  Energy Requirement Overnight charging\n",
      "   1            13              23                  35                 No\n",
      "   2            14              16                  30                 No\n",
      "   3            10              23                  21                 No\n",
      "   4            23               4                  17                Yes\n",
      "   5            12              23                  23                 No\n",
      "   6            13               3                  28                Yes\n"
     ]
    }
   ],
   "source": [
    "#SIMULATION AND ANALYSIS\n",
    "\n",
    "#Create input data table\n",
    "input_data = {\n",
    "    \"Car\": car,\n",
    "    \"Arrival Time\": arrival_time,\n",
    "    \"Departure Time\": departure_time,\n",
    "    \"Energy Requirement\": energy_requirement,\n",
    "    \"Overnight charging\": [\"Yes\" if d<a else \"No\" for d,a in zip(departure_time, arrival_time)]\n",
    "}\n",
    "\n",
    "input_data_df = pd.DataFrame(input_data)\n",
    "\n",
    "# Export DataFrame to Excel\n",
    "excel_filename = \"car_data.xlsx\"\n",
    "input_data_df.to_excel(excel_filename, index=False)\n",
    "print(input_data_df.to_string(index=False))"
   ]
  },
  {
   "cell_type": "code",
   "execution_count": 11,
   "id": "e3d15c04",
   "metadata": {},
   "outputs": [
    {
     "name": "stdout",
     "output_type": "stream",
     "text": [
      " Car  Dwell time  Charge length  Charging power High demand alert Flexible load\n",
      "   1          10              5               7                No           Yes\n",
      "   2           2              2              11               Yes            No\n",
      "   3          13              7               3                No           Yes\n",
      "   4           5              2               7                No           Yes\n",
      "   5          11              7               3                No           Yes\n",
      "   6          14              9               3                No           Yes\n"
     ]
    }
   ],
   "source": [
    "# Create intermediate parameter for optimization process\n",
    "intermediate_data = {\n",
    "    \"Car\": car,\n",
    "    \"Dwell time\": dwell_time,\n",
    "    \"Charge length\": charge_length,\n",
    "    \"Charging power\": charge_power,\n",
    "    \"High demand alert\": high_demand_alert\n",
    "}\n",
    "\n",
    "intermediate_data_df = pd.DataFrame(intermediate_data)\n",
    "intermediate_data_df['Flexible load'] = [\"Yes\" if cl < ct else \"No\" for cl,ct in zip(charge_length, dwell_time)]\n",
    "\n",
    "# Export to excel file\n",
    "intermediate_data_df.to_excel(\"intermediate_data.xlsx\", index = False)\n",
    "print(intermediate_data_df.to_string(index=False))"
   ]
  },
  {
   "cell_type": "code",
   "execution_count": 12,
   "id": "7a5e6953",
   "metadata": {},
   "outputs": [
    {
     "name": "stdout",
     "output_type": "stream",
     "text": [
      " Car  Required energy  Fulfilled energy  Fulfilment rate % \n",
      "   1               35                35               100.0\n",
      "   2               30                22                73.0\n",
      "   3               21                21               100.0\n",
      "   4               17                14                82.0\n",
      "   5               23                21                91.0\n",
      "   6               28                27                96.0\n"
     ]
    }
   ],
   "source": [
    "#Create fulfilment tables:\n",
    "fulfillment_data = {\n",
    "    \"Car\": car,\n",
    "    \"Required energy\": energy_requirement,\n",
    "    \"Fulfilled energy\": energy_fulfillment,\n",
    "    \"Fulfilment rate % \": energy_fulfillment_percentage,\n",
    "}\n",
    "\n",
    "fulfillment_data_df=pd.DataFrame(fulfillment_data)\n",
    "\n",
    "# Export to excel file\n",
    "fulfillment_data_df.to_excel(\"fulfillment_data.xlsx\", index = False)\n",
    "print(fulfillment_data_df.to_string(index=False))"
   ]
  },
  {
   "cell_type": "code",
   "execution_count": 13,
   "id": "14999f26",
   "metadata": {},
   "outputs": [
    {
     "name": "stdout",
     "output_type": "stream",
     "text": [
      " Car  Start time  End time  Fulfilment rate %   Charging cost\n",
      "   1          18        23               100.0           39.9\n",
      "   2          14        16                73.0           39.6\n",
      "   3          16        23               100.0           26.1\n",
      "   4          23         1                82.0           14.7\n",
      "   5          16        23                91.0           26.1\n",
      "   6          18         3                96.0           29.7\n"
     ]
    }
   ],
   "source": [
    "#Create output tables:\n",
    "output_data = {\n",
    "    \"Car\": car,\n",
    "    \"Start time\": [start for start, end in scheduled_start_end],\n",
    "    \"End time\": [end for start, end in scheduled_start_end],\n",
    "    \"Fulfilment rate % \": energy_fulfillment_percentage,\n",
    "    \"Charging cost\": minimized_cost_list\n",
    "    \n",
    "}\n",
    "\n",
    "output_data_df=pd.DataFrame(output_data)\n",
    "                            \n",
    "# Export to excel file                           \n",
    "output_data_df.to_excel(\"output_data.xlsx\", index = False)                         \n",
    "print(output_data_df.to_string(index=False))"
   ]
  },
  {
   "cell_type": "code",
   "execution_count": 14,
   "id": "44b9b5e0",
   "metadata": {},
   "outputs": [
    {
     "name": "stdout",
     "output_type": "stream",
     "text": [
      " Car  Optimal cost  Unoptimized cost  Cost saving%\n",
      "   1          39.9             58.80          32.1\n",
      "   2          39.6             39.60           0.0\n",
      "   3          26.1             36.90          29.3\n",
      "   4          14.7             14.70           0.0\n",
      "   5          26.1             35.10          25.6\n",
      "   6          29.7             39.15          24.1\n"
     ]
    }
   ],
   "source": [
    "# Cost comparison between scheduled vs unscheduling charging\n",
    "cost_analysis_data = {\n",
    "    \"Car\": car,\n",
    "    \"Optimal cost\": minimized_cost_list,\n",
    "    \"Unoptimized cost\": unscheduled_cost_list,\n",
    "    \"Cost saving%\": [round((un-opt)/un*100,1) for un,opt in zip(unscheduled_cost_list, minimized_cost_list)]\n",
    "}\n",
    "\n",
    "cost_analysis_data_df = pd.DataFrame(cost_analysis_data)\n",
    "\n",
    "# Export to excel file                           \n",
    "cost_analysis_data_df.to_excel(\"cost_analysis_data.xlsx\", index = False)  \n",
    "\n",
    "print(cost_analysis_data_df.to_string(index=False))"
   ]
  },
  {
   "cell_type": "code",
   "execution_count": 15,
   "id": "a4913c33",
   "metadata": {},
   "outputs": [
    {
     "name": "stdout",
     "output_type": "stream",
     "text": [
      " Car  Optimal cost  Unoptimized cost  Cost saving%\n",
      "   1          39.9              58.8          32.1\n",
      "   2          39.6              39.6           0.0\n",
      "   3          26.1              36.9          29.3\n",
      "   4          14.7              14.7           0.0\n",
      "   5          26.1              35.1          25.6\n",
      "   6          29.7              39.1          24.1\n"
     ]
    }
   ],
   "source": [
    "# Cost comparison between scheduled vs unscheduling charging\n",
    "cost_analysis_data = {\n",
    "    \"Car\": car,\n",
    "    \"Optimal cost\": [round(m, 1) for m in minimized_cost_list],\n",
    "    \"Unoptimized cost\":[round(u, 1) for u in unscheduled_cost_list],\n",
    "    \"Cost saving%\": [round((un-opt)/un*100,1) for un,opt in zip(unscheduled_cost_list, minimized_cost_list)]\n",
    "    \n",
    "}\n",
    "cost_analysis_data_df=pd.DataFrame(cost_analysis_data)\n",
    "\n",
    "# Export to excel file                           \n",
    "cost_analysis_data_df.to_excel(\"cost_analysis_data2.xlsx\", index = False) \n",
    "\n",
    "print(cost_analysis_data_df.to_string(index=False))"
   ]
  }
 ],
 "metadata": {
  "kernelspec": {
   "display_name": "Python 3 (ipykernel)",
   "language": "python",
   "name": "python3"
  },
  "language_info": {
   "codemirror_mode": {
    "name": "ipython",
    "version": 3
   },
   "file_extension": ".py",
   "mimetype": "text/x-python",
   "name": "python",
   "nbconvert_exporter": "python",
   "pygments_lexer": "ipython3",
   "version": "3.9.13"
  }
 },
 "nbformat": 4,
 "nbformat_minor": 5
}
