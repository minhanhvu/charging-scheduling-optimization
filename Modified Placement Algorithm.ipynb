{
 "cells": [
  {
   "cell_type": "code",
   "execution_count": 1,
   "id": "0f91f274",
   "metadata": {},
   "outputs": [
    {
     "name": "stdout",
     "output_type": "stream",
     "text": [
      "[('cv', 19, 24, 4, 4), ('cb', 15, 6, 10, 6), ('ts', 2, 11, 6, 10), ('vw', 12, 24, 9, 4), ('tyt', 23, 6, 3, 5)]\n"
     ]
    }
   ],
   "source": [
    "# Aggregator collects mobility information and energy requirement \n",
    "#Step 1: Load the arrival time, departure time, charging duration, and charging power of the EV\n",
    "car = ['cv', 'cb','ts', 'vw','tyt']\n",
    "arrival_time = [19, 15, 2, 12, 23]\n",
    "departure_time = [24, 6, 11, 24, 6]\n",
    "charge_length = [4, 10, 6, 9, 3]\n",
    "charge_power = [4, 6, 10, 4, 5]\n",
    "# Step 2: Load the electricity tariff\n",
    "hourly_tariff_list = [10, 10, 10, 10, 10, 10, 21, 21, 14, 14, 14, 14, 14, 14, 14, 14, 21, 21, 21, 14, 14, 10, 10, 10]\n",
    "\n",
    "## Each tuple is a set of information of one EV.\n",
    "charging_infor_list = list(zip(car, arrival_time, departure_time, charge_length, charge_power))\n",
    "print(charging_infor_list)"
   ]
  },
  {
   "cell_type": "code",
   "execution_count": 2,
   "id": "3b646898",
   "metadata": {},
   "outputs": [],
   "source": [
    "def find_optimal_charging_time(name, arrival, departure, charge_length, charge_power):\n",
    " \n",
    "    hourly_tariff_list = [10, 10, 10, 10, 10, 10, 21, 21, 14, 14, 14, 14, 14, 14, 14, 14, 21, 21, 21, 14, 14, 10, 10, 10]\n",
    "    \n",
    "#Step 1: Find the number of possible charging scenarios, including charging start_end time \n",
    "    if departure > arrival: \n",
    "        scenario_num = departure - arrival - charge_length + 1\n",
    "        start_time = [arrival - 1 + i for i in range(1,scenario_num + 1)]\n",
    "        end_time = [arrival - 1 + i + charge_length for i in range(1,scenario_num + 1)]\n",
    "    else: \n",
    "        scenario_num = 24 + departure - arrival - charge_length + 1\n",
    "        start_time = [arrival - 1 + i for i in range(1,scenario_num + 1)]\n",
    "        end_time = [arrival - 1 + i + charge_length - 24 for i in range(1,scenario_num + 1)]   \n",
    "    \n",
    "#Step 2: Calculate charging cost for each scenario\n",
    "    selected_hourly_tariff = []\n",
    "    for i in range(len(start_time)):\n",
    "        if departure > arrival: \n",
    "            list = hourly_tariff_list[start_time[i]:end_time[i]]  \n",
    "        else: \n",
    "            list = hourly_tariff_list[start_time[i]:] + hourly_tariff_list[:end_time[i]] # start 15 - end 01 = 16,17,18,19,20,21,22,23,24,01\n",
    "        selected_hourly_tariff.append(list)\n",
    "           \n",
    "    charging_cost_scenario = []  \n",
    "    for tariff_set in selected_hourly_tariff:\n",
    "        session_cost = sum([charge_power*tariff for tariff in tariff_set])\n",
    "        charging_cost_scenario.append(session_cost)\n",
    "        \n",
    "    start_time_and_charing_cost = dict(zip(start_time,charging_cost_scenario))\n",
    "    \n",
    "    \n",
    "#Step 3: Find the minimum charging cost of all scenario and its respective charging start_end time\n",
    "    optimal_start = min(start_time_and_charing_cost, key = lambda start: start_time_and_charing_cost[start])\n",
    "    optimal_end = optimal_start + charge_length if optimal_start + charge_length <= 24 else optimal_start + charge_length -24\n",
    "    minimum_cost = start_time_and_charing_cost[optimal_start]/10\n",
    "    print(\"It is recommended for\", name, \"to begin charging at\",optimal_start, 'to', optimal_end, \"to minimize the charging cost at $\",minimum_cost)\n",
    "\n",
    "   "
   ]
  },
  {
   "cell_type": "code",
   "execution_count": 3,
   "id": "260dddb9",
   "metadata": {},
   "outputs": [
    {
     "name": "stdout",
     "output_type": "stream",
     "text": [
      "It is recommended for cv to begin charging at 20 to 24 to minimize the charging cost at $ 17.6\n",
      "It is recommended for cb to begin charging at 20 to 6 to minimize the charging cost at $ 62.4\n",
      "It is recommended for ts to begin charging at 2 to 8 to minimize the charging cost at $ 82.0\n",
      "It is recommended for vw to begin charging at 15 to 24 to minimize the charging cost at $ 54.0\n",
      "It is recommended for tyt to begin charging at 23 to 2 to minimize the charging cost at $ 15.0\n",
      "None\n"
     ]
    }
   ],
   "source": [
    "for case in charging_infor_list: \n",
    "    result = find_optimal_charging_time(*case)\n",
    "print(result)\n",
    "    "
   ]
  },
  {
   "cell_type": "code",
   "execution_count": null,
   "id": "6fb07bb0",
   "metadata": {},
   "outputs": [],
   "source": []
  }
 ],
 "metadata": {
  "kernelspec": {
   "display_name": "Python 3 (ipykernel)",
   "language": "python",
   "name": "python3"
  },
  "language_info": {
   "codemirror_mode": {
    "name": "ipython",
    "version": 3
   },
   "file_extension": ".py",
   "mimetype": "text/x-python",
   "name": "python",
   "nbconvert_exporter": "python",
   "pygments_lexer": "ipython3",
   "version": "3.9.13"
  }
 },
 "nbformat": 4,
 "nbformat_minor": 5
}
